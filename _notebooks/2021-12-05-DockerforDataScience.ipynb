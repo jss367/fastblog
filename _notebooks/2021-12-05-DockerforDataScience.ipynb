{
 "cells": [
  {
   "cell_type": "markdown",
   "id": "a133ad52",
   "metadata": {},
   "source": [
    "# Docker for Data Science&#58 Efficient Image Instancing without System Issues\n",
    "\n",
    "> Covering how and why you should setup Docker for your local environment when developing Machine Learning models and products\n",
    "\n",
    "- toc: true\n",
    "- badges: true\n",
    "- comments: true\n",
    "- image: images/docker_love.jpg"
   ]
  },
  {
   "cell_type": "markdown",
   "id": "a9483c51",
   "metadata": {},
   "source": [
    "## What is Docker? Why do I love it? And why should you suddenly worship the Almighty Whale?\n",
    "\n",
    "Ishmael once set out to conquer the seas by taking down the leviathan: Moby Dick. The unkillable being that haunted the seas. However, in his endevour, he failed. The Whale completely destroying his ship and crew, leaving him as the sole survivor.\n",
    "\n",
    "But have we ever stopped and thought: should we instead be worshiping this Whale? Is it too strong for mortal man? And how can we do so, and what gifts will it bring forth?\n",
    "\n",
    "Too weird? Too weird. Anyways, back on topic to somewhat whale-related things.\n",
    "\n",
    "[Docker](https://docker.com) is a *containerization* platform.\n",
    "\n",
    "What does this mean? Let's do some quick introductions.\n",
    "\n",
    "Some of you may be familiar with the concept of a **Virtual Machine** (VM). These VM's are often ran to boot Linux onto your Windows machine and work in an environment that has mild access to your internal system. What can get annoying very quickly with VM's however is they require a **hefty** amount of system resources to be used, even if you might not get through all of it. Typically you have to direct the virtual machine to allocate X Gb of memory for you to use, X Gb of storage for it to utilize, and so forth. Limiting how much you can do. \n",
    "\n",
    "The result? Running over 3 virtual machines in a standard environment is near *impossible* to run efficiently. \n",
    "\n",
    "Alright, what about a \"container\"? Containers are a light-weight infrastructure that runs *atop* your current environment. It doesn't have it's own allocation in memory, and so it shares directly with what your system is doing. \n",
    "\n",
    "The result?\n",
    "\n",
    "You can quite easily spin up and run *hundreds* of low-resource intensive Docker images at once, have them do their jobs, and then shut down, without too much headache. (Think something along the lines of run a shell script that writes to a random txt document 1,000 times: low intensive).\n",
    "\n",
    "The image below is a good visualization of this, taken from the [Virtual machines vs Docker Containers](https://www.youtube.com/watch?v=TvnZTi_gaNc) YouTube video:\n",
    "\n",
    "![Docker vs VMs](../images/docker_image.jpg)"
   ]
  },
  {
   "cell_type": "markdown",
   "id": "3b6da66c",
   "metadata": {},
   "source": [
    "You can see that while both the VM and the Docker containers require underlying infrastructure and a base host operating system (think what your every day environment is on your computer), VM's require their own explicit Guest OS's to be installed, while Docker containers are just a *thin* layer that lives within the Docker Daemon. \n",
    "\n",
    "As a result, the containers are extremely lightweight, typically don't step on each others toes, and are quite efficient."
   ]
  },
  {
   "cell_type": "markdown",
   "id": "5c064223",
   "metadata": {},
   "source": [
    "## Moving on, what does this have to do with Data Science?\n",
    "\n",
    "This sounds like quite a bit of DevOps work, doesn't it? (That's because it is!) Let's try and tie this back into our world of Data Science and Machine Learning.\n",
    "\n",
    "Setting up a local environment (be it GPU enabled or not) is one of the most frustrating aspects of our field. You can follow a million tutorials and *still* not get it right. God forbid you mess up your conda environment too, and then you're really in a pickle.\n",
    "\n",
    "The nice thing about these Docker containers is so long as we supply it with the right underlying **hardware** to use (yes, that means we'll be covering installing CUDA and whatnot sadly), managing your environment is as simple as throwing up a new Docker image. But what if I break that environment? Rebuild it. I don't lose my data (if we configure it properly), and I can just say goodbye to that environment configuration and start anew.\n",
    "\n",
    "We get access to this capability through a shared resource called the [Docker Hub](https://hub.docker.com/). Through here, we can host our own pre-built Docker configurations and can run them on our local machines!\n",
    "\n",
    "> **Important Notice**: We will *not* be talking about writing Dockerfile's here. We will be discussing utilizing them instead. For a good tutorial/curriculum, my course I took in school utilized [Docker 101](https://www.docker.com/101-tutorial), and here's a good [best practices](https://docs.docker.com/develop/develop-images/dockerfile_best-practices/) reference"
   ]
  },
  {
   "cell_type": "markdown",
   "id": "9cc59b00",
   "metadata": {},
   "source": [
    "## Awesome, so how do I setup my environment?\n",
    "\n",
    "I'll be following you through the exact same steps it took me to setup my new MSI Laptop, which came with a NVIDIA GPU attached with it. It'll be a process, with many links, but it should *not* take you more than 30 minutes in total!\n",
    "\n",
    "This will be the shortest part of this article, due to quite ltierally how quick this was. So, ready? Let's get started!\n",
    "\n",
    "\n"
   ]
  },
  {
   "cell_type": "markdown",
   "id": "cfd1ed6b",
   "metadata": {},
   "source": [
    "## Downloading Ubuntu\n",
    "\n",
    "First step is (if you so choose) installing Ubuntu onto your machine. I did because I wanted the entire seperated operating system, but do note: *this is not required*. I didn't want to deal with any thoroughput issues with WSL2, and I like staying on Windows 10, so this was the other main reason why I just went ahead with rolling Ubuntu.\n",
    "\n",
    "You will need a thumb drive of some form for this, as we will be making a bootable image to install from.\n",
    "\n",
    "First: Download and install [Rufus](https://rufus.ie/en/).\n",
    "\n",
    "Afterwards, navigate to the [Ubuntu Desktop](https://ubuntu.com/download/desktop) homepage. Download the ISO, open it in Rufus, and hit `START`.\n",
    "\n",
    "It should prompt you saying we'll completely wipe that thumb drive, that's expected, then wait for it to finish.\n",
    "\n",
    "Once that is done, I'd personally recommend allocating a chunk of your hard drive to be your Linux partition.\n",
    "\n",
    "Considering I do a solid 50/50 of my work between Windows and Ubuntu, I just left half of my hard drive partitioned. Read how to do so [here](https://support.microsoft.com/en-us/windows/create-and-format-a-hard-disk-partition-bbb8e185-1bda-ecd1-3465-c9728f7d7d2e)\n",
    "> Note: Do not choose to allocate the storage as an NTFS drive, leave it directly unallocated. Ubuntu can't utilize NTFS drives for booting"
   ]
  },
  {
   "cell_type": "markdown",
   "id": "48983d7e",
   "metadata": {},
   "source": [
    "## Installing Ubuntu\n",
    "\n",
    "Next, you'll want to install Ubuntu. Word of advice: **bring [this article](https://www.itzgeek.com/post/how-to-install-ubuntu-20-04-alongside-with-windows-10-in-dual-boot/) up on your phone so you can keep reading**. As during it, you won't have access to your computer.\n",
    "\n",
    "You will need:\n",
    "- Your laptop, turned off\n",
    "- Our newly-made image installer on our thumb drive\n",
    "- An Ethernet cable.\n",
    "\n",
    "Yes, you heard me: an Ethernet cable. Even if you're doing this through your laptop, you'll want one. \n",
    "\n",
    "Out-of-the-box, Linux will likely not support your wireless card, and we'll hit a switch during install to get that.\n",
    "\n",
    "\n",
    "Alright, are we all set? Great. \n",
    "\n",
    "Boot up your computer and open your BIOS (Google it for your laptop brand, for some it's F7, F9, or even Delete).\n",
    "\n",
    "Once there, you'll want to navigate to the **Boot** section, and find the **Boot Order**. If your BIOS supports you directly booting off of some hardware, navigate to your USB Bus (it should say Ubuntu on it), and hit \"Boot\". If not, adjust the boot order to *start* with our little thumb drive, and then hit the \"Save and Exit\" button.\n",
    "\n",
    "Upon restarting, you should be on a new prompt asking you what you want to start in. You will get *extremely* familiar with the GNOME prompt, as it is what will handle telling your computer to either boot in Windows or Ubuntu. Here you just want to press the \"Try Ubuntu\" option (the first).\n",
    "\n",
    "After it boots, you should see on your desktop a \"Install Ubuntu XYZ\" shortcut, go ahead and click that to start installing it.\n",
    "> Note: I had some issues with Ubuntu being laggy, it was just due to this preview. It went away post installation\n",
    "\n",
    "More or less just follow along the directions. **HOWEVER**: At one point it will prompt you with a radial button saying \"Install just what I need\", with another option saying install 3rd-party drivers.\n",
    "\n",
    "*For the love of everything, hit that button*\n",
    "(this is step \n",
    "You **need** to install 3rd-party drivers to have access to bluetooth, internet, and a slew of other things. So *do it*.\n",
    "\n",
    "Wait about 10-15 minutes if that for it to install, and you should have a functioning Linux install!\n",
    "\n",
    "Now boot up your new Ubuntu OS, and we can begin the fun!"
   ]
  },
  {
   "cell_type": "markdown",
   "id": "ef46804f",
   "metadata": {},
   "source": [
    "## Installing NVIDIA and the Drivers\n",
    "\n",
    "We're at the scary part now, installing the drivers. **Follow this tutorial exactly and you will be fine**. Ensure you find the right driver for your GPU, by looking [here](https://www.nvidia.com/Download/index.aspx?lang=en-us).\n",
    "\n",
    "I had heard a rumour in a tweet that Ubuntu enjoyed eating up our GPU RAM for rendering our screen. That's not good! I want as much VRAM as I can for running ML!\n",
    "\n",
    "Is there a solution? *Of course*. And here it is on a silver platter:\n",
    "\n",
    "\n",
    "A wonderful little gist on [Setting up integrated graphics for display](https://gist.github.com/alexlee-gk/76a409f62a53883971a18a11af93241b)\n",
    "\n",
    "Pretty much follow that gist 1:1, and by the end you will have CUDA installed without hating yourself. Below are a few important notes I'll highlight:\n",
    "\n",
    "> The path to the xorg.conf file should be /etc/X11/xorg.conf and not /etx/X11/xorg.conf\n",
    "\n",
    "And **especially** this post by @scaomath further in the comments:\n",
    "\n",
    ">  Thanks for the post. I was able to get the iGPU in 10th gen Intel running using the xorg.conf given, as well as CUDA running VSCode. However, I got all pixelated and weird color strips across the screen. So I did some Google-fu and found that in order that X works on Intel UHD 630 (8th-10th gen desktop CPU). The iGPU part needs to be changed to:\n",
    "\n",
    "```\n",
    "Section \"Device\"\n",
    "    Identifier  \"Intel Graphics\"\n",
    "    Driver      \"modesetting\"\n",
    "    BusID       \"PCI:0:2:0\"\n",
    "EndSection\n",
    "```\n",
    "\n",
    "> The driver has to be modesetting which is in xserver-xorg-core. Just to be safe, it is recommended to uninstall xserver-xorg-video-intel as well.\n",
    "\n",
    "I did both, and afterwards I got ~10mb of constant usage out of my monitor from the GPU. Not perfect, but 10mb won't kill me or my performance *too* much"
   ]
  },
  {
   "cell_type": "markdown",
   "id": "19e864b6",
   "metadata": {},
   "source": [
    "## Next up: Docker\n",
    "\n",
    "Okay, that was the hardest part of this entire thing. Seriously.\n",
    "\n",
    "All that's left is for you to download Docker-GPU, and we're ready to rock and roll. \n",
    "\n",
    "First, follow the docker installation directions from this digital ocean article:\n",
    "- [Installation directions](https://www.digitalocean.com/community/tutorials/how-to-install-and-use-docker-on-ubuntu-18-04)\n",
    "\n",
    "Once that's done, we'll follow the directions for installing the CUDA capability for Docker [here](https://docs.nvidia.com/datacenter/cloud-native/container-toolkit/install-guide.html#setting-up-nvidia-container-toolkit)\n",
    "\n",
    "> **Important**: Skip the \"Setting up Docker\" portion, you have already done so.\n",
    "\n",
    "And, I kid you not, you're done! \n",
    "\n",
    "You can quickly test if it's working by doing the following:\n",
    "\n",
    "Test: `nvidia-smi` and make sure your GPU comes up\n",
    "\n",
    "Run: `docker run --rm --gpus all nvidia/cuda:XX.X-base nvidia-smi`\n",
    "\n",
    "(replace XX.X with the CUDA version that showed up in `nvidia-smi`). you should see the GPU show there as well.\n",
    "\n",
    "The rest of this article will be covering some basic docker know-how for you to help utilize this great process, as well as some bash shortcuts I've made to speed up my development."
   ]
  },
  {
   "cell_type": "markdown",
   "id": "acb4cee2",
   "metadata": {},
   "source": [
    "## Docker: The Basics\n",
    "\n",
    "In all reality, you need to know about four commands:\n",
    "\n",
    "- `docker container list`\n",
    "- `docker search`\n",
    "- `docker pull`\n",
    "- `docker run`\n",
    "- `docker kill`\n",
    "\n",
    "Let's go over each quickly:\n",
    "\n",
    "### `docker container list`\n",
    "\n",
    "This command will list all active docker containers and their current status. You can see an example output of mine below:\n",
    "\n",
    "![](../images/docker_container_list.png)"
   ]
  },
  {
   "cell_type": "markdown",
   "id": "e4842e6f",
   "metadata": {},
   "source": [
    "> Note: the terminal doesn't look too pretty or readable here, for now that's fine. I wrote something to deal with that later."
   ]
  },
  {
   "cell_type": "markdown",
   "id": "30a6635d",
   "metadata": {},
   "source": [
    "What's important to read here:\n",
    "- Names: A nickname for a particular container, when referencing them in docker commands you can either use this or the CONTAINER ID\n",
    "\n",
    "- Image: What the base image of the container is using\n",
    "\n",
    "- Ports: What exposed ports are running that you can connect to (more on this later).\n",
    "\n",
    "The rest you can look at or see if you need, but these are the three I pay the most attention to (along with Status)."
   ]
  },
  {
   "cell_type": "markdown",
   "id": "0e0a5913",
   "metadata": {},
   "source": [
    "### `docker search`\n",
    "\n",
    "This is what you (should) be using to find any docker containers you're interested in running. this will search the Docker Hub and find what you need. Below is an example of me searching for `fastai` images:\n",
    "\n",
    "![](../images/docker_search.png)"
   ]
  },
  {
   "cell_type": "markdown",
   "id": "50714dca",
   "metadata": {},
   "source": [
    "Let's keep a note of how the official fastai image is `fastdotai/fastai`. We'll need this for later."
   ]
  },
  {
   "cell_type": "markdown",
   "id": "dfa9ea79",
   "metadata": {},
   "source": [
    "### `docker pull`\n",
    "\n",
    "`docker pull` is what will actually take that docker image on the hub, and bring it to our local device. It's a fairly straightfoward command as well. To download that fastai image, we do:\n",
    "\n",
    "`docker pull fastdotai/fastai`.\n",
    "\n",
    "That's about it!"
   ]
  },
  {
   "cell_type": "markdown",
   "id": "1e4a433b",
   "metadata": {},
   "source": [
    "### `docker run`\n",
    "\n",
    "Docker run is how you will start up most of your docker images. For a full list of parameters you can pass in, see the documentation [here](https://docs.docker.com/engine/reference/commandline/run/), but for our sake I'll TL;DR the most important ones for you:\n",
    "\n",
    "- `-v` specifies a *volume* for you to mount. It follows the syntax of `path/on/mine/from/root:/mnt/docker_volume/name`, where the latter half of that path is where it appears locally on your docker image. This will directly link to your local system, allowing you to touch your local files directly. \n",
    "\n",
    "> Note: Docker containers mount different file storage systems. Ensure you figure out the direct path it boots up in and then setup your volume there. This will alleviate quite a number of headaches\n",
    "\n",
    "- `-p` specifies exposed *ports* on your system. This is **extremely** important for say running Jupyter servers inside the image, and wanting to talk with them. Typically they follow a format of `-p 8888:8888`. The 8888 is the port on *your* system, and the second 8888 is the port *inside the docker image*. So, for example if inside the docker image is a server spin-up script, that exposes a jupyter port on `localhost:8888`, we *could* just leave it be and connect to port 8888. But we run into issues if I try and run two of this image, as the servers would mess with each other. By changing that first port number, we can perform *port forwarding*, and we will tell the docker container to send all data coming from port 8888 to 8887, something not in use. \n",
    "\n",
    "> Note: Depending on the setup, it may still say \"connect to 127.x.x.x:8888\". Remember that this is *not* the port we exposed, so trust your port changing and go to the right web address\n",
    "\n",
    "- `--gpus` specifies the number of GPUs to use. You can specify 1, 2, or `all`. I typically just use all. This is specific from us installing the CUDA version of docker earlier, so do take note to run your images with `--gpus` if you're hoping to make use of your GPU in your system.\n",
    "\n",
    "If we wanted to run that downloaded image of fastai we grabbed earlier and spin it up in our current working directory, here's how that would look: (I'll explain the fancy bash)\n",
    "\n",
    "`docker run $(pwd):/home/runner/$(basename $(pwd)) -p 8888:8888 --gpus all fastdotai/fastai ./run_jupyter.sh`\n",
    "\n",
    "Now, let's quickly talk about what this does. \n",
    "\n",
    "* `pwd` grabs your current working directory, and its *full* path\n",
    "* `basename` takes the last path in a long path (such as one returned by pwd)\n",
    "\n",
    "Doing this should now expose a jupyter server running on `localhost:8888` (that requires a token), and is utilizing your GPU!"
   ]
  },
  {
   "cell_type": "markdown",
   "id": "8bc1c1fa",
   "metadata": {},
   "source": [
    "### `docker kill`\n",
    "\n",
    "Finally, we have the death command: `docker kill`. With this, you simply specify either the `container id` from earlier, or the nickname it gave you, and it will immediatly shut it down. An example of shutting down our container from earlier (the nbdev one running in the script) would look like the following:\n",
    "\n",
    "`docker kill happy_poincare`\n",
    "\n",
    "> Note: Since we can run multiple containers of the same image, this is the importance of us specifying the nickname affiliated with it"
   ]
  },
  {
   "cell_type": "markdown",
   "id": "ecadae86",
   "metadata": {},
   "source": [
    "## My Secret Sauce\n",
    "\n",
    "What follows now will be my own secret commands I've written up, along with a library, to make my own life easier.\n",
    "\n",
    "I threw all of these into `./bash_aliases`.\n",
    "\n",
    "When it comes to docker commands, I'm lazy and don't want to write `docker container`, so we have the following:\n",
    "\n",
    "- `alias dkill=\"docker kill` (kill a container)\n",
    "- `alias dp=\"docker pull` (pull a container)\n",
    "- `alias dr=\"docker run` (run a container)\n",
    "\n",
    "They still maintain their arguments (and respective helps), while also keeping my own sanity.\n",
    "\n",
    "I also have a few of the following for Python:\n",
    "- `alias python=python3`\n",
    "- `alias py=python3`\n",
    "\n",
    "Finally, we have some that handle running `docker run`, but before we get too deep into it, just set the following:\n",
    "\n",
    "- `alias start=\"dr \"`\n",
    "\n",
    "> By setting a space at the end, we can have it trail off into commands directly below it, which we will utilize. You'll understand why for semantics I have \"start\" instead of dr in a moment\n",
    "\n"
   ]
  },
  {
   "cell_type": "markdown",
   "id": "1b390482",
   "metadata": {},
   "source": [
    "## Docker Buddy\n",
    "\n",
    "As I was working my way through this, I didn't like how some of the outputs looked (very bland, unreadbale). So as a result, I wrote [docker_buddy](https://github.com/muellerzr/docker_buddy), which utilizes Rich to introduce *clean* and concise versions of the same commands I just ran earlier. \n",
    "\n",
    "There are three alternatives in it:\n",
    "\n",
    "- `ds` for `docker search`\n",
    "- `dls` for `docker container list`\n",
    "- `di` for inspecting docker containers, I nickname it as `docker investigate` in my head (though is not directly docker)\n",
    "\n",
    "To install:\n",
    "\n",
    "`pip install docker_buddy`\n",
    "\n",
    "And also do:\n",
    "```bash\n",
    "sudo apt install npm\n",
    "npm i -g rekcod\n",
    "```"
   ]
  },
  {
   "cell_type": "markdown",
   "id": "6041bc74",
   "metadata": {},
   "source": [
    "For an example of how those help us out, take a quick peek at the images I provided for `docker search` and `docker container list`. Here's our new ones:\n",
    "\n",
    "\n",
    "**Docker Search (ds)**:\n",
    "![](../images/docker_search_rich.png)\n",
    "\n",
    "**Docker Container List (dls)**:\n",
    "![](../images/dls.png)\n",
    "\n",
    "Thanks entirely to [Rich](https://rich.readthedocs.io/en/latest/introduction.html), we're able to pull off this beautiful looking UI.\n",
    "\n",
    "I also wrote `di` as a way for us to see what inherit arguments are available for the *docker image specifically*, i.e. their configurations. An example output is below:\n",
    "\n",
    "![](../images/di.png)"
   ]
  },
  {
   "cell_type": "markdown",
   "id": "b717297a",
   "metadata": {},
   "source": [
    "Now that we have `docker_buddy` on our system, here's those last two cheats I have in my alias:\n",
    "\n",
    "- `alias nbdev=\"-v $(pwd):/home/runner/$(basename $(pwd)) -p 8888:8888 fastdotai/nbdev`\n",
    "- `alias jupyt=\"-v $(pwd):/home/jovyan/$(basename $(pwd)) -p 8886:8888 jupyter/minimal-notebook`\n",
    "\n",
    "Combined, these all now allow me to quickly do:\n",
    "\n",
    "```bash\n",
    "start fastai\n",
    "```\n",
    "or \n",
    "```bash\n",
    "start jupyt\n",
    "```\n",
    "To skip *all* of the long configuration setups to start my server. If needed we can of course go through and run them manually, but these are quick shortcuts I wrote for myself."
   ]
  },
  {
   "cell_type": "markdown",
   "id": "af9931cb",
   "metadata": {},
   "source": [
    "## Conclusion\n",
    "\n",
    "I truly hope this has helped many of you setup some brand new environemnts, and use CUDA with as minimal headache as possible. The moment I got this working my mind got racing with all the possibilities this could bring, which is what drove me to write this article. \n",
    "\n",
    "If you've enjoyed this, please do let me know!\n",
    "\n",
    "You can find me on my socials at:\n",
    "\n",
    "- Twitter: [@TheZachMueller](https://twitter.com/thezachmueller)\n",
    "- LinkedIn: [Zach Mueller](https://www.linkedin.com/in/zachary-mueller-135257118)"
   ]
  }
 ],
 "metadata": {
  "kernelspec": {
   "display_name": "Python 3 (ipykernel)",
   "language": "python",
   "name": "python3"
  },
  "language_info": {
   "codemirror_mode": {
    "name": "ipython",
    "version": 3
   },
   "file_extension": ".py",
   "mimetype": "text/x-python",
   "name": "python",
   "nbconvert_exporter": "python",
   "pygments_lexer": "ipython3",
   "version": "3.9.7"
  }
 },
 "nbformat": 4,
 "nbformat_minor": 5
}
